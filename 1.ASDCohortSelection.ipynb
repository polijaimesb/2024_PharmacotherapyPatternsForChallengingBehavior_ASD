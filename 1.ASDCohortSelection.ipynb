{
 "cells": [
  {
   "cell_type": "raw",
   "id": "dbf0cedb",
   "metadata": {},
   "source": [
    "---\n",
    "title: \"Cleaning, preparing and cohort selection\"\n",
    "author: \"Paula Jaimes\"\n",
    "date: \"2024-05-01\"\n",
    "output: html_document\n",
    "---"
   ]
  },
  {
   "cell_type": "markdown",
   "id": "ce5ce1ab",
   "metadata": {},
   "source": [
    "# Cleaning, preparing and selection of ASD cohort \n",
    "\n",
    "This markdown shows the process to obtain our sample cohort of patients with ASD. We first, clean and prepared our dataset to then, select the cohort following certain requirements. We mainly used the National Drug Codes (NDCs), the patient's ID, the ICD-9/ICD-10 list selected from Feroe et al. (2021) (<https://github.com/hms-dbmi/medicationUsageASDcomorbidities>), and evaluated for our specialized physicians. Finally, we also used the date of service, and the dates of enrollment.\n",
    "\n",
    "## Load libraries"
   ]
  },
  {
   "cell_type": "code",
   "execution_count": null,
   "id": "e7f0e8d0",
   "metadata": {},
   "outputs": [],
   "source": [
    "library(data.table)\n",
    "library(dplyr)\n",
    "library(stringi)\n",
    "library(stringr) \n",
    "library(tidyr) \n",
    "library(purrr)"
   ]
  },
  {
   "cell_type": "markdown",
   "id": "569b199c",
   "metadata": {},
   "source": [
    "## Index in the first diagnosis of ASD for each patient\n",
    "\n",
    "We index in the first ASD diagnosis according with a list of ICD-9/ICD-10 codes."
   ]
  },
  {
   "cell_type": "code",
   "execution_count": null,
   "id": "3de71fb1",
   "metadata": {},
   "outputs": [],
   "source": [
    "#ICD-9/ICD-10 related to ASD\n",
    "ASD_diagnoses_code <- c(\"F84\",\"F840\",\"F843\",\"F845\",\"F849\",\"F848\",\"R419\", \n",
    "                        \"2990\",\"29900\",\"29901\",\"2998\",\"29980\",\"29981\",\"2999\",\n",
    "                        \"29990\",\"29991\",\"299\",\"2991\",\"29910\",\"29911\")\n",
    "\n",
    "#List of ASD diagnosis and their respective date \n",
    "ASD_diagnoses_codes_dates <- claims_ASD_wNDC_csv %>%\n",
    "  select(pat_id, from_dt, starts_with(\"diag\")) %>%\n",
    "  select(-diagprc_ind) %>%\n",
    "  pivot_longer(\n",
    "    cols = -c(pat_id,from_dt), \n",
    "    names_to = \"diagn_code\",\n",
    "    values_to = \"code\"\n",
    "  ) %>% \n",
    "  select(-diagn_code) %>%\n",
    "  #Filter the ICD related to ASD\n",
    "  filter(code %in% ASD_diagnoses_code)  %>% \n",
    "  arrange(from_dt, pat_id) %>% \n",
    "  distinct()\n",
    "\n",
    "#List of ASD diagnosis and respective year\n",
    "ASD_diagnoses_codes_years <- ASD_diagnoses_codes_dates %>%\n",
    "  mutate(year = substr(from_dt, 1, 4)) %>% \n",
    "  select(-from_dt) %>% \n",
    "  distinct() %>% \n",
    "  left_join(., select(demographicASD, pat_id, der_yob), by = \"pat_id\") %>% \n",
    "  mutate(relative_age = as.numeric(year) - der_yob)\n",
    "\n",
    "\n",
    "#Obtain the first date for each diagnosis per patient  \n",
    "first_date_ASD_Diagn <- ASD_diagnoses_codes_dates %>%\n",
    "  group_by(pat_id) %>% \n",
    "  filter(row_number()==1) %>% \n",
    "  mutate(from_dt = as.Date(from_dt, \"%Y-%d-%m\")) %>% \n",
    "  ungroup()"
   ]
  },
  {
   "cell_type": "markdown",
   "id": "0b2daf5c",
   "metadata": {},
   "source": [
    "After obtaining the date of the first ASD diagnosis, index the claims."
   ]
  },
  {
   "cell_type": "code",
   "execution_count": null,
   "id": "5a9ea5ab",
   "metadata": {},
   "outputs": [],
   "source": [
    "\n",
    "'claims_ASD_wNDC_csv$from_dt <- as.Date(claims_ASD_wNDC_csv$from_dt, \"%Y-%d-%m\") # Join the dataframes and filter \n",
    "claims_afterDiagn_ASAD <- claims_ASD_wNDC_csv %>% left_join(first_date_ASD_Diagn, by = \"pat_id\", suffix = c(\"_claim\", \"_first_diagn\")) %>% filter(from_dt_claim >= from_dt_first_diagn)\n",
    "\n",
    "print(paste0(\"Claims from patients with claims since the first diagnosis (2006-2022): \", nrow(claims_afterDiagn_ASAD)) )\n",
    "\n",
    "print(paste0(\"Patients with at least 1 ICD-9/ICD-10 codes for ASD (2006-2022): \",length(unique(claims_afterDiagn_ASAD$pat_id))) )'\n"
   ]
  },
  {
   "cell_type": "markdown",
   "id": "c8e8ac1e",
   "metadata": {},
   "source": [
    "## Verification of continuous enrollment\n",
    "\n",
    "Patients can be included if have an insurance coverage for at least 12 months. First, we identified the count of months enrolled for each patient, and filtered the patients with at least 12 months."
   ]
  },
  {
   "cell_type": "code",
   "execution_count": null,
   "id": "5bd93905",
   "metadata": {},
   "outputs": [],
   "source": [
    "#How many times in a year a patient appear enrolled \n",
    "'table_enroll_year <- demographicASD_enrll2 %>%\n",
    "  #filter(.$pat_id %in% ThreeASD_diagnoses_codes_filter) %>% \n",
    "  mutate(year = substr(month_id, 1, 4)) %>% \n",
    "  group_by(pat_id, year) %>% \n",
    "  count %>% \n",
    "  ungroup() %>%\n",
    "  #filter(.$year < 2022) %>%\n",
    "  mutate(active_months = n) %>% \n",
    "  select(-n)\n",
    "\n",
    "#How many claims a patient have per year \n",
    "observe_claims_all_total <- claims_afterDiagn_ASAD %>% \n",
    "  mutate(year = substr(month_id, 1, 4)) %>% \n",
    "  group_by(pat_id, year) %>% \n",
    "  count %>% \n",
    "  ungroup() %>%\n",
    "  arrange(pat_id, year) %>% \n",
    "  mutate(count_all_claims = n) %>% \n",
    "  select(-n)\n",
    "\n",
    "#Count the months of enrollment per each patient\n",
    "CountOfMonths_enroll <- table_enroll_year %>% \n",
    "  group_by(pat_id) %>% \n",
    "  summarize(total_months = sum(active_months)) %>% \n",
    "  ungroup()\n",
    "\n",
    "print(paste0(\"Patients before verif. of contin. enroll: \", length(unique(CountOfMonths_enroll$pat_id))))\n",
    "\n",
    "patients_full_enroll <- CountOfMonths_enroll %>% \n",
    "  filter(total_months >= 12)\n",
    "\n",
    "print(paste0(\"Patients after verif. of contin. enroll: \", length(unique(patients_full_enroll$pat_id))))'"
   ]
  },
  {
   "cell_type": "markdown",
   "id": "5f9d3b23",
   "metadata": {},
   "source": [
    "We observe that some patients have insurance records before the year of birth provided. We verified how many patients face the same problem. First, extract the first record in the insurance enrollment file for each patient."
   ]
  },
  {
   "cell_type": "code",
   "execution_count": null,
   "id": "e30c859b",
   "metadata": {},
   "outputs": [],
   "source": [
    "\n",
    "patientsFirstEnrollRecord <- table_enroll_year %>% \n",
    "  arrange(pat_id, year) %>% \n",
    "  group_by(pat_id) %>% \n",
    "  slice(1) %>% \n",
    "  ungroup() %>% \n",
    "  left_join(., select(demographicASD, der_yob, pat_id), by = \"pat_id\")\n",
    "\n",
    "PatientsWithNonCoherentInsurance <- patientsFirstEnrollRecord %>% \n",
    "  filter(der_yob > year) %>% \n",
    "  select(pat_id) %>% \n",
    "  unique %>% \n",
    "  unlist \n",
    "\n",
    "claims_afterDiagn_ASAD <- claims_afterDiagn_ASAD %>% \n",
    "  filter(! pat_id %in% PatientsWithNonCoherentInsurance)\n",
    "\n",
    "print(paste0(\"Number of patients after delete the incoherent ones: \", length(unique(claims_afterDiagn_ASAD$pat_id))))\n",
    "      "
   ]
  },
  {
   "cell_type": "markdown",
   "id": "2bfbdfba",
   "metadata": {},
   "source": [
    "There were 176 patients with the year of birth greater than the first insurance enrollment record. We deleted them from the dataset before doing the filter of continuous enrollment.\n",
    "\n",
    "Finally, we included the patients with at least 12 months of enrollment."
   ]
  },
  {
   "cell_type": "code",
   "execution_count": null,
   "id": "4647d755",
   "metadata": {},
   "outputs": [],
   "source": [
    "'claims_afterDiagn_ASAD <- claims_afterDiagn_ASAD %>% \n",
    "  filter(pat_id %in% patients_full_enroll$pat_id)\n",
    "\n",
    "\n",
    "print(paste0(\"Claims from patients with continuos enrollment (2006-2022): \", nrow(claims_afterDiagn_ASAD)) )\n",
    "\n",
    "print(paste0(\"Patients with  continuos enrollment  (2006-2022): \",length(unique(claims_afterDiagn_ASAD$pat_id))) )'\n"
   ]
  },
  {
   "cell_type": "markdown",
   "id": "69c9f5e1",
   "metadata": {},
   "source": [
    "## ICD-9/ICD-10 verification for ASD diagnosis\n",
    "\n",
    "We included the patients with at least 2 ICD-9/ICD-10 codes related to ASD in different dates, not matter if it is the same diagnosis code. Here, we also select our study period to be from 2012 to 2021."
   ]
  },
  {
   "cell_type": "code",
   "execution_count": null,
   "id": "1c41496a",
   "metadata": {},
   "outputs": [],
   "source": [
    "'ASD_diagnoses_codes_dates <- claims_afterDiagn_ASAD %>%\n",
    "  select(pat_id, from_dt_claim, starts_with(\"diag\")) %>%\n",
    "  select(-diagprc_ind) %>%\n",
    "  pivot_longer(\n",
    "    cols = -c(pat_id,from_dt_claim), \n",
    "    names_to = \"diagn_code\",\n",
    "    values_to = \"code\"\n",
    "  ) %>% \n",
    "  select(-diagn_code) %>%\n",
    "  #Filter the ICD related to ASD\n",
    "  filter(code %in% ASD_diagnoses_code)  %>% \n",
    "  arrange(from_dt_claim, pat_id) %>% \n",
    "  distinct()\n",
    "\n",
    "#Obtain the ASD diagnosis per year \n",
    "ASD_diagnoses_codes_years <- ASD_diagnoses_codes_dates %>%\n",
    "  mutate(year = substr(from_dt_claim, 1, 4)) %>% \n",
    "  select(-from_dt_claim) %>% \n",
    "  distinct() %>% \n",
    "  left_join(., select(demographicASD, pat_id, der_yob), by = \"pat_id\") %>% \n",
    "  mutate(relative_age = as.numeric(year) - der_yob)\n",
    "\n",
    "#More than 3 ASD diagnoses codes for each patient \n",
    "TwoASD_diagnoses_codes_filter <- ASD_diagnoses_codes_dates %>% \n",
    "  group_by(pat_id) %>%\n",
    "  summarise(diagnoses_count = n_distinct(from_dt_claim,code)) %>%\n",
    "  #At least 2 ICD codes for each patient\n",
    "  filter(diagnoses_count >= 2) %>%\n",
    "  select(pat_id) %>% \n",
    "  unique %>% \n",
    "  unlist\n",
    "\n",
    "#Filter those patients in the claims dataset \n",
    "claims_afterDiagn_ASAD <- claims_afterDiagn_ASAD %>% \n",
    "  filter(pat_id %in% TwoASD_diagnoses_codes_filter) %>% \n",
    "  #Just leave the claims between 2012 to 2021\n",
    "  mutate(year = substr(month_id, 1, 4)) %>% \n",
    "  filter(year >= 2012 & year <= 2021)  %>% \n",
    "  select(-year)\n",
    "\n",
    "print(paste0(\"Claims from patients with at least 2 ICD-9/ICD-10 codes for ASD (2012-2021): \", nrow(claims_afterDiagn_ASAD)) )\n",
    "\n",
    "print(paste0(\"Patients with at least 2 ICD-9/ICD-10 codes for ASD (2012-2021): \",length(unique(claims_afterDiagn_ASAD$pat_id))) )'"
   ]
  },
  {
   "cell_type": "markdown",
   "id": "c2edc5d7",
   "metadata": {},
   "source": [
    "## Patients with ASD aged 2 to 26 yo\n",
    "\n",
    "Our cohort are going to consist only in children aged 0 to 26 years old."
   ]
  },
  {
   "cell_type": "code",
   "execution_count": null,
   "id": "66c17787",
   "metadata": {
    "name": "age_filter"
   },
   "outputs": [],
   "source": [
    "#Add column of year of birth to include only patients 0 to 26 years old \n",
    "claims_afterDiagn_ASAD <- left_join(claims_afterDiagn_ASAD, demographicASD, by = \"pat_id\") %>% \n",
    "  mutate(year_claim = as.numeric(substr(month_id, 1, 4))) %>% \n",
    "  mutate(relative_age = year_claim - as.numeric(der_yob)) %>% \n",
    "  filter(relative_age >= 0 & relative_age <= 26) %>% \n",
    "  select(-year_claim)\n",
    "\n",
    "\n",
    "'print(paste0(\"Claims from patients aged 0 to 26 years (2012 to 2021) \", nrow(claims_afterDiagn_ASAD)) )\n",
    "\n",
    "print(paste0(\"Patients aged 0 to 26 years  (2012 to 2021): \",length(unique(claims_afterDiagn_ASAD$pat_id))) )''\n"
   ]
  },
  {
   "cell_type": "markdown",
   "id": "cfae8821",
   "metadata": {},
   "source": [
    "## Pharmacotherapy cohort\n",
    "\n",
    "First, we defined the classification of medications and their respective names."
   ]
  },
  {
   "cell_type": "code",
   "execution_count": null,
   "id": "64c7578a",
   "metadata": {
    "name": "drug_class_names"
   },
   "outputs": [],
   "source": [
    "\n",
    "names_isomnia<-c(\"TRAZODONE\",\"GABAPENTIN\",\"AMITRIPTYLINE\",\"CLOMIPRAMINE\",\"DESIPRAMINE\")\n",
    "name_agressive_behv<-c(\"LORAZEPAM\", \"DIAZEPAM\",\"CLONAZEPAM\",\"ALPRAZOLAM\",\"CLOZAPINE\",\"HALOPERIDOL\",\n",
    "                       \"CHLORPROMAZINE\", \"CANNABIDIOL\")\n",
    "names_depres_anx_OCD<-c(\"BUPROPION\",\"FLUOXETINE\",\"SERTRALINE\",\"FLUVOXAMINE\",\"ESCITALOPRAM\",\n",
    "                        \"PAROXETINE\",\"CITALOPRAM\",\"BUSPIRONE\",\"AMITRIPTYLINE\",\"CLOMIPRAMINE\",\n",
    "                        \"DESIPRAMINE\")\n",
    "names_irrit<-c(\"OLANZAPINE\",\"ZIPRASIDONE\",\"RISPERIDONE\",\"QUETIAPINE\",\"ARIPIPRAZOLE\", \"LURASIDONE\")\n",
    "name_antiseiz<-c(\"OXCARBAZEPINE\",\"LAMOTRIGINE\",\"DIVALPROEX\",\"TOPIRAMATE\")\n",
    "name_adhd_stim<-c(\"METHYLPHENIDATE\",\"DEXMETHYLPHENIDATE\",\"SERDEXMETHYLPHENIDATE\",\n",
    "                  \"LISDEXAMFETAMINE\",\"AMPHETAMINE\",\"AMPHETAMINE-DEXTROAMPHETAMINE\",\"DEXTROAMPHETAMINE\", \"ATOMOXETINE\",\"VILOXAZINE\")\n",
    "name_adhd_agress<-c(\"GUANFACINE\",\"CLONIDINE\")\n",
    "\n",
    "all_names <- unique(c(names_isomnia, name_adhd_agress, name_adhd_stim, \n",
    "                      name_agressive_behv, name_antiseiz,names_depres_anx_OCD, \n",
    "                      names_irrit))\n"
   ]
  },
  {
   "cell_type": "markdown",
   "id": "b9131678",
   "metadata": {},
   "source": [
    "Then, extract the name of the drug using the generic names from the Rx file (already joined in the claims dataset)"
   ]
  },
  {
   "cell_type": "code",
   "execution_count": null,
   "id": "c7257e59",
   "metadata": {
    "name": "drug_names_claims"
   },
   "outputs": [],
   "source": [
    "\n",
    "'pharmacotherapy_claims <- claims_afterDiagn_ASAD %>% \n",
    "  mutate(medication = map_chr(str_split(generic_name, \" \"), 1)) %>% \n",
    "  filter(medication %in% all_names) %>% \n",
    "  mutate(medication = if_else(medication == \"AMPHETAMINE\",\"AMPHETAMINE-DEXTROAMPHETAMINE\",medication)) %>% \n",
    "  #filter generic names that we do not need \n",
    "  filter(! generic_name %in% GenericNamesToFilter$FilterGenericName) %>% \n",
    "  left_join(.,drug_class_names, by = \"medication\") %>% \n",
    "  distinct()\n",
    "\n",
    "print(paste0(\"Claims from patients aged 0 to 26 years receiving pharmacotherapy (2012-2021): \", nrow(pharmacotherapy_claims)) )\n",
    "\n",
    "print(paste0(\"Patients aged 0 to 26 years receiving pharmacotherapy(2012-2021): \",length(unique(pharmacotherapy_claims$pat_id))) )'\n",
    "\n"
   ]
  },
  {
   "cell_type": "markdown",
   "id": "82e50ce9",
   "metadata": {},
   "source": [
    "Final working dataset contains:\n",
    "\n",
    "-   Patients' ID\n",
    "\n",
    "-   Demographic information\n",
    "\n",
    "-   Prescription information\n",
    "\n",
    "-   Diagnosis and procedure information\n",
    "\n",
    "-   Dates of prescription"
   ]
  }
 ],
 "metadata": {
  "jupytext": {
   "cell_metadata_filter": "name,-all",
   "main_language": "R",
   "notebook_metadata_filter": "-all"
  },
  "language_info": {
   "name": "python"
  }
 },
 "nbformat": 4,
 "nbformat_minor": 5
}
