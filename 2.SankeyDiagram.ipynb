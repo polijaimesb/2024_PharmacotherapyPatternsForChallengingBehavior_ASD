{
 "cells": [
  {
   "cell_type": "raw",
   "id": "d038815d",
   "metadata": {},
   "source": [
    "---\n",
    "title: \"Medication patterns\"\n",
    "author: \"Paula Jaimes\"\n",
    "date: \"2024-04-22\"\n",
    "output: html_document\n",
    "---"
   ]
  },
  {
   "cell_type": "markdown",
   "id": "15d03a0b",
   "metadata": {},
   "source": [
    "This script contains the step by step of the identification of patterns of medications, specifically the ones that are part of the selective serotonin reuptake inhibitors (SSRIs), atypical antipsychotics, and alpha agonist (centrally acting antiadrenergic agents). We used reimbursement claims data from individuals that have a prescription of those medications. The file used here is already cleaned and pre-processed.\n",
    "\n",
    "## Functions\n",
    "\n",
    "### Dummy links - yearly and monthly\n",
    "\n",
    "In order to maintain the order of the levels in the Sankey diagram, we created dummy connections between each year, with small values near to zero to keep the links. We did two functions, one for the monthly patterns and the other one, for yearly patterns."
   ]
  },
  {
   "cell_type": "code",
   "execution_count": null,
   "id": "b701e0d0",
   "metadata": {},
   "outputs": [],
   "source": [
    "#Generate dummy connections by month\n",
    "dummy_connections <- function(month, claims_dataset, DrugClass, maxmonth_source = NULL){\n",
    "  \n",
    "  #This function have as an input: \n",
    "  # - month = which is each of the month to search for patterns. This month has to be \n",
    "  #   in the following format: 202011. \n",
    "  # - claims_dataset = the dataframe that contains the prescription names \n",
    "  # - DrugClass = the name of the drug classes to create the dummy links with the medications\n",
    "  #   within it. \n",
    "  # - maxmonth_source = Max month of the time period. \n",
    "\n",
    "  if(is.null(maxmonth_source)){\n",
    "    maxmonth_source<-as.numeric(paste(substr(month,1,4),\"12\",sep=\"\"))\n",
    "  }\n",
    "  \n",
    "  if(month < maxmonth_source){  \n",
    "    if(substr(month,5,6)==\"12\"){\n",
    "      \n",
    "      next_month<-as.numeric(substr(month,1,4))+1\n",
    "      \n",
    "      dummy_names<-claims_dataset %>% \n",
    "      filter(.$Drug_class %in% DrugClass) %>%\n",
    "      select(medication) %>%\n",
    "      unique %>%\n",
    "      mutate(drugSource = paste(medication, month, sep=\"_\")) %>% \n",
    "      mutate(drugTarget = paste(medication,\n",
    "      as.numeric(paste(next_month,\"01\",sep=\"\")),sep=\"_\")) \n",
    "      \n",
    "    }else{\n",
    "      dummy_names<-claims_dataset %>% \n",
    "      filter(.$Drug_class %in% DrugClass) %>%\n",
    "      select(medication) %>%\n",
    "      unique %>%\n",
    "      mutate(drugSource = paste(medication, month, sep=\"_\")) %>% \n",
    "      mutate(drugTarget = paste(medication, month+1,sep=\"_\")) \n",
    "    }\n",
    "    \n",
    "    return(dummy_names)\n",
    "  }\n",
    "  \n",
    "\n",
    "}"
   ]
  },
  {
   "cell_type": "markdown",
   "id": "46bda415",
   "metadata": {},
   "source": [
    "The same procedure is create for the dummy links yearly."
   ]
  },
  {
   "cell_type": "code",
   "execution_count": null,
   "id": "19e9a67d",
   "metadata": {},
   "outputs": [],
   "source": [
    "#Generate dummy connections by year\n",
    "dummy_connections_year <- function(year, maxyear_source, DrugClass, claims_dataset_prescription){ \n",
    "  \n",
    "  #This function have as an input: \n",
    "  # - year = year to search for patterns.  \n",
    "  # - claims_dataset = the dataframe that contains the prescription names \n",
    "  # - DrugClass = the name of the drug classes to create the dummy links with the medications\n",
    "  #   within it. \n",
    "  # - maxyear_source = Max year of the time period. \n",
    "  \n",
    "    if(year < maxyear_source){  \n",
    "      dummy_names <- claims_dataset_prescription %>% \n",
    "        filter(.$Drug_class %in% DrugClass) %>%\n",
    "        select(medication) %>%\n",
    "        unique %>%\n",
    "        mutate(drugSource = paste(medication, year, sep=\"_\")) %>%\n",
    "        mutate(drugTarget = paste(medication, year+1,sep=\"_\"))\n",
    "      \n",
    "      return(dummy_names)\n",
    "    }\n",
    "      \n",
    "}\n"
   ]
  },
  {
   "cell_type": "markdown",
   "id": "613f361a",
   "metadata": {},
   "source": [
    "### Formatting prescriptions for sankey diagram\n",
    "\n",
    "In order to create the sankey diagram, we have to format the prescription for each year accordingly. First, it is necessary to only include the individuals with one medication per year, no matter if they are receiving multiple refills. Then, we have to create one column for the source medication and the target medication by year, and then, count how many patients have the same pattern of prescription."
   ]
  },
  {
   "cell_type": "code",
   "execution_count": null,
   "id": "07d87ff1",
   "metadata": {},
   "outputs": [],
   "source": [
    "SankeyDiagram_patientsOneDrugMed<-function(year, claims_dataset, flag_count = FALSE){\n",
    "  \n",
    "  #Declare initial vectors\n",
    "  patients_source<- c()\n",
    "  medication_source_c<- c()\n",
    "  medication_target_c<-c()\n",
    "  medication_source_count<-c()\n",
    "  \n",
    "  #Declare the start and final date of the source and the target \n",
    "  minyears_source<-as.numeric(paste(year,\"01\",sep=\"\"))\n",
    "  maxyears_source<-as.numeric(paste(year,\"12\",sep=\"\"))\n",
    "\n",
    "  minyears_target<-as.numeric(paste(year+1,\"01\",sep=\"\"))\n",
    "  maxyears_target<-as.numeric(paste(year+1,\"12\",sep=\"\"))\n",
    "  \n",
    "  #Extract only the patients that appears with a claim in the source\n",
    "  #To reduce time consumption\n",
    "  \n",
    "  patients_id <- claims_dataset %>%\n",
    "    filter(.$month_id >= minyears_source & \n",
    "             .$month_id <= maxyears_source) %>% \n",
    "    select(pat_id) %>% \n",
    "    unique %>%\n",
    "    unlist\n",
    "\n",
    "  for(i in patients_id){\n",
    "    #Go to each patient and see what of those only have one prescription \n",
    "    #or multiple prescription for the same drug medication \n",
    "    \n",
    "    #In the source\n",
    "    medication_source <- claims_dataset %>% \n",
    "    filter(.$month_id >= minyears_source & .$month_id <= maxyears_source & \n",
    "             .$pat_id == i) %>% \n",
    "    select(medication) %>% unique\n",
    "    \n",
    "    #And in the target \n",
    "    medication_target <- claims_dataset %>% \n",
    "    filter(.$month_id >= minyears_target & .$month_id <= maxyears_target & \n",
    "             .$pat_id == i) %>% \n",
    "    select(medication) %>% unique\n",
    "  \n",
    "    #Verifiy that the prescriptions only are from the same medication\n",
    "    #And extract the medication\n",
    "    if(nrow(medication_source) == 1 & nrow(medication_target) == 1 & is.null(medication_source) != TRUE & is.null(medication_target) != TRUE){\n",
    "      patients_source<-c(patients_source,i)\n",
    "      \n",
    "    medication_source_c <-c(medication_source_c,medication_source)\n",
    "    medication_target_c <-c(medication_target_c,medication_target)\n",
    "    medication_source_count <- c(medication_source_count,medication_source)\n",
    "    \n",
    "    }else{\n",
    "      if(nrow(medication_source) == 1){\n",
    "        medication_source_count <- c(medication_source_count,medication_source)\n",
    "      }\n",
    "    }\n",
    "    \n",
    "    \n",
    "  }\n",
    "  \n",
    "  #Put all the results in a dataframe, formatted it according with the needs \n",
    "  # and count it \n",
    "  \n",
    "  if(is.null(medication_source_c) != TRUE \n",
    "     & is.null(medication_target_c) != TRUE & \n",
    "     flag_count == FALSE){\n",
    "    drugs_patterns <- data.frame(drugSource = unlist(medication_source_c),\n",
    "                             drugTarget = unlist(medication_target_c)) %>%\n",
    "    mutate(drugTarget = paste(drugTarget,year+1,sep=\"_\")) %>%\n",
    "    mutate(drugSource = paste(drugSource,year,sep=\"_\")) %>%\n",
    "    group_by(drugSource, drugTarget) %>%\n",
    "    count\n",
    "\n",
    "   return(drugs_patterns)\n",
    "      \n",
    "  }else{\n",
    "    drugs_patterns<- data.frame(drugSource = unlist(medication_source_count)) %>% \n",
    "      mutate(drugSource = paste(drugSource,year,sep=\"_\"))\n",
    "    \n",
    "    return(drugs_patterns)\n",
    "  }\n",
    "\n",
    "}\n"
   ]
  },
  {
   "cell_type": "markdown",
   "id": "295ce6da",
   "metadata": {},
   "source": [
    "## Sankey diagram construction\n",
    "\n",
    "For the study, we selected three drug classes as mentioned before. We define here the study period, the drug classes, and define the cohort according with those. Despite our study period is from 2012 to 2021, it is a requirenment of the function for the sankey diagram formatting to not include the final year."
   ]
  },
  {
   "cell_type": "code",
   "execution_count": null,
   "id": "c86a5154",
   "metadata": {},
   "outputs": [],
   "source": [
    "#Study period \n",
    "years = 2012:2020\n",
    "\n",
    "#With only the drug classes \n",
    "drug_classes <- c(\"Atypical antipsychotics\",\"Selective serotonin reuptake inhibitors\",\n",
    "                     \"Antiadrenergic agents centrally acting\")\n",
    "\n",
    "claims_ASD_wNDC_csv_onlyPrescripClass_RL<-claims_ASD_wNDC_csv_onlyPrescripClass %>%\n",
    "  filter(.$Drug_class %in% drug_classes) %>% \n",
    "  mutate(year = substr(month_id,1,4))\n",
    "\n",
    "drug_classes <- claims_ASD_wNDC_csv_onlyPrescripClass_RL %>% \n",
    "  select(medication, Drug_class) %>% \n",
    "  unique \n"
   ]
  },
  {
   "cell_type": "markdown",
   "id": "65bfb261",
   "metadata": {},
   "source": [
    "Then, we use the function described in the last section, using all the years already defined."
   ]
  },
  {
   "cell_type": "code",
   "execution_count": null,
   "id": "34afb5e7",
   "metadata": {},
   "outputs": [],
   "source": [
    "start.time <- Sys.time()\n",
    "\n",
    "all_patterns_df<-lapply(years, SankeyDiagram_patientsOneDrugMed, claims_dataset = claims_ASD_wNDC_csv_onlyPrescripClass_RL) \n",
    "\n",
    "all_patterns_df <- bind_rows(all_patterns_df)"
   ]
  },
  {
   "cell_type": "markdown",
   "id": "309ad9e1",
   "metadata": {},
   "source": [
    "After that, we create the dummy links, now using the entired study period. Then, we join it to all the patterns found."
   ]
  },
  {
   "cell_type": "code",
   "execution_count": null,
   "id": "f400ef88",
   "metadata": {},
   "outputs": [],
   "source": [
    "#Create the dummy links\n",
    "years <- 2012:2021\n",
    "\n",
    "dummy_links_year<-lapply(years,\n",
    "                         dummy_connections_year, \n",
    "                         maxyear_source = max(years), \n",
    "                         claims_dataset_prescription =\n",
    "                           claims_ASD_wNDC_csv_onlyPrescripClass_RL,\n",
    "                         DrugClass = unlist(unique(drug_classes$Drug_class)))\n",
    "\n",
    "dummy_links_year<-bind_rows(dummy_links_year)\n",
    "\n",
    "#Join the dataset with the dummy links \n",
    "all_patterns_df<-full_join(all_patterns_df,\n",
    "                           dummy_links_year,\n",
    "                           by = c(\"drugSource\",\"drugTarget\")) %>%\n",
    "  select(-medication) \n",
    "\n",
    "all_patterns_df$n<-replace(all_patterns_df$n,is.na(all_patterns_df$n),1e-6)"
   ]
  },
  {
   "cell_type": "markdown",
   "id": "0ed85454",
   "metadata": {},
   "source": [
    "Here, we define the colors for the nodes and the links,"
   ]
  },
  {
   "cell_type": "code",
   "execution_count": null,
   "id": "08fe7e3a",
   "metadata": {},
   "outputs": [],
   "source": [
    "nodes_colors <- data.frame(Drug_class = sort(c(\"Selective serotonin reuptake inhibitors\",\"Antiadrenergic agents centrally acting\",\"Atypical antipsychotics\")))\n",
    "\n",
    "color_nodes <- c(\"#489b7b\",\"#cb6527\", \"#DDAB3B\")\n",
    "\n",
    "#The next functions is to add transparency (opacity) to the colors \n",
    "add.alpha <- function(col, alpha = 1){\n",
    "  if(missing(col)){\n",
    "    stop(\"Provide a vector of colours.\")\n",
    "  }else{\n",
    "    apply(sapply(col, col2rgb)/255, 2,\n",
    "          function(x)\n",
    "            rgb(x[1], x[2], x[3], alpha = alpha))\n",
    "  }\n",
    "}\n",
    "\n",
    "color_nodes_alpha <- add.alpha(color_nodes, alpha = 0.4)\n",
    "nodes_colors <- cbind(nodes_colors, color = color_nodes, color_link = color_nodes_alpha)"
   ]
  },
  {
   "cell_type": "markdown",
   "id": "e6862e3b",
   "metadata": {},
   "source": [
    "After the identification of the patterns of medications, we have to format the tables for the nodes and for the links. This is just to give to each medication by year a index or ID to be identified by the sankey diagram function."
   ]
  },
  {
   "cell_type": "code",
   "execution_count": null,
   "id": "49978f2c",
   "metadata": {},
   "outputs": [],
   "source": [
    "#Create the nodes\n",
    "  nodes <- all_patterns_df %>%\n",
    "    pivot_longer(1:2, values_to = \"name_node\") %>%\n",
    "    distinct(name_node) %>% arrange(name_node) %>% \n",
    "    mutate(year = as.numeric(sub(\".*_(\\\\d+)$\", \"\\\\1\", name_node))) %>% \n",
    "    arrange(year) %>%\n",
    "    mutate(name_node2 = substr(name_node, 1, nchar(name_node)-5)) %>% \n",
    "    mutate(medication = name_node2) %>% \n",
    "    mutate(name_node2 = gsub(\"(?<=\\\\b)([a-z])\", \n",
    "                             \"\\\\U\\\\1\", \n",
    "                             tolower(name_node2), perl = TRUE)) %>% \n",
    "    left_join(.,drug_classes, by = \"medication\") %>% \n",
    "    arrange(year, Drug_class) %>% \n",
    "    mutate(idx = (1:n()) - 1)\n",
    "\n",
    "  nodes <- left_join(nodes,nodes_colors, by = \"Drug_class\")\n",
    "  \n",
    "  #Select only the color for the source \n",
    "  source_colors <- nodes %>% \n",
    "    select(idx, color_link) %>% \n",
    "    mutate(source = idx) %>% \n",
    "    select(-idx)"
   ]
  },
  {
   "cell_type": "markdown",
   "id": "43aa3510",
   "metadata": {},
   "source": [
    "Then, with the indices of each node, we create the links. Two columns are creating as similar to the first table formated, containing the drug source, the drug target, and the year of the source."
   ]
  },
  {
   "cell_type": "code",
   "execution_count": null,
   "id": "54233955",
   "metadata": {},
   "outputs": [],
   "source": [
    "links<- bind_rows(\n",
    "    all_patterns_df %>% select(source = drugSource, target = drugTarget, value = n)) %>%\n",
    "    mutate(year = as.numeric(sub(\".*_(\\\\d+)$\", \"\\\\1\", source))) %>% \n",
    "    arrange(year) %>% \n",
    "    dplyr::group_by(source, target) %>%\n",
    "    mutate(source = nodes$idx[match(source, nodes$name_node)]) %>%\n",
    "    mutate(target = nodes$idx[match(target, nodes$name_node)]) %>% \n",
    "    left_join(., source_colors, by = \"source\") %>% \n",
    "    mutate(color = ifelse(value == 1e-6,\"#00000000\",color_link)) %>% \n",
    "    ungroup()"
   ]
  },
  {
   "cell_type": "markdown",
   "id": "48ba182f",
   "metadata": {},
   "source": [
    "In order to put transparent the dummy nodes, we have to identify the nodes with less than 1 patient and create an specific group for coloring."
   ]
  },
  {
   "cell_type": "code",
   "execution_count": null,
   "id": "8598647c",
   "metadata": {},
   "outputs": [],
   "source": [
    "#Obtain the nodes that have a total less than 1 (dummy link)\n",
    "nodes_smallCount_source <- links %>% \n",
    "    group_by(source) %>% \n",
    "    summarise(total = sum(value)) %>% \n",
    "    filter(.$total < 1) %>%\n",
    "    ungroup() %>% \n",
    "    select(source) %>% \n",
    "    unique\n",
    "  \n",
    "    nodes_smallCount_target <- links %>% \n",
    "    group_by(target) %>% \n",
    "    summarise(total = sum(value)) %>% \n",
    "    filter(.$total < 1) %>%\n",
    "    ungroup() %>%\n",
    "    select(target) %>% \n",
    "    unique\n",
    "    \n",
    "   nodes_smallCount <- nodes_smallCount_source %>% \n",
    "      filter(.$source %in% nodes_smallCount_target$target | \n",
    "               .$source %in% c(3))\n",
    "  \n",
    "nodeColors <- unlist(nodes_colors$color)\n",
    "\n",
    "#Create the group of the nodes for coloring \n",
    "nodes <- nodes %>%\n",
    "mutate(color = ifelse(idx %in% \n",
    "                        nodes_smallCount$source, \n",
    "                      \"#00000000\", color)) %>%\n",
    "mutate(Drug_class = ifelse(color == \"#00000000\", paste0(Drug_class,\"_D\"), Drug_class), \n",
    "       name_node2 = ifelse(color == \"#00000000\", '', name_node2))\n",
    "\n",
    "\n",
    "drug_class <- nodes_colors$Drug_class\n",
    "# linkColors <- sort(unique(links$color))\n",
    "\n",
    "nodes_drugClasses <- nodes %>% \n",
    "  select(idx, Drug_class) %>% \n",
    "  unique \n",
    "\n",
    "#This is to just leave the name of the nodes at the end\n",
    "nodes <- nodes %>% \n",
    "  mutate(name_node_final = ifelse(year < max(year) , '', name_node2))\n",
    "\n",
    "colnames(nodes_drugClasses)[1] = \"source\""
   ]
  },
  {
   "cell_type": "markdown",
   "id": "8afa74cf",
   "metadata": {},
   "source": [
    "Similar process is created with the links."
   ]
  },
  {
   "cell_type": "code",
   "execution_count": null,
   "id": "822ab6cb",
   "metadata": {},
   "outputs": [],
   "source": [
    "links <- left_join(links, nodes_drugClasses, by = \"source\") %>% \n",
    "    arrange(year, Drug_class) %>% \n",
    "    mutate(Drug_class = ifelse(value == 1e-6 & \n",
    "                                 substr(Drug_class, nchar(Drug_class)-1, \n",
    "                                        nchar(Drug_class)) != \"_D\", paste0(Drug_class,\"_D\"), Drug_class))\n",
    "  \n",
    "colnames(links)[7] <- \"Drug_class\""
   ]
  },
  {
   "cell_type": "markdown",
   "id": "cebdb2f4",
   "metadata": {},
   "source": [
    "Finally, we create the color scale for the sankey diagram using the color groups and colors defined before."
   ]
  },
  {
   "cell_type": "code",
   "execution_count": null,
   "id": "689fcec7",
   "metadata": {},
   "outputs": [],
   "source": [
    "my_color <- paste(\"d3.scaleOrdinal().domain([\",\n",
    "                  paste0(\"'\",paste(drug_class, \n",
    "                                   collapse = \"','\"),\"'\"),\",\",paste0(\"'\",paste(paste0(drug_class,\"_D\"), \n",
    "                                                                               collapse = \"','\"),\"'\"),\n",
    "                  \"]).range([\",\n",
    "                  paste0(\"'\",paste(nodeColors,collapse=\"','\"),\"'\"),\",'#00000000', '#00000000', '#00000000'])\")"
   ]
  },
  {
   "cell_type": "markdown",
   "id": "6c34045e",
   "metadata": {},
   "source": [
    "The sankey diagram is created with `sankeyNetwork` command from the `networkd3` library. We save it as html."
   ]
  },
  {
   "cell_type": "code",
   "execution_count": null,
   "id": "d325a01c",
   "metadata": {},
   "outputs": [],
   "source": [
    "fig_overtime_drugClasses <- sankeyNetwork(Links=links, Nodes=nodes, Source='source',\n",
    "                                            Target='target', \n",
    "                                            Value = 'value', \n",
    "                                            NodeID ='name_node_final',\n",
    "                                            colourScale=my_color,\n",
    "                                            fontSize= 35, nodeWidth = 25,\n",
    "                                            nodePadding = 15,\n",
    "                                            sinksRight = FALSE,\n",
    "                                            LinkGroup =  \"Drug_class\",\n",
    "                                            NodeGroup = \"Drug_class\", \n",
    "                                            iterations = 0, width = 2000, height = 900)\n",
    "\n",
    "fig_overtime_drugClasses\n",
    "end.time <- Sys.time()\n",
    "\n",
    "htmlwidgets::saveWidget(fig_overtime_drugClasses,\"S:/Paula/Figures/ResearchLetter/NewFilters/HTML_SD/Final_SD/FinalRL_April_NoNames/SD_NoName_2012to2021_ourMethod_drugclasses_2to26_12moEnroll.html\")"
   ]
  },
  {
   "cell_type": "markdown",
   "id": "a630564f",
   "metadata": {},
   "source": [
    "Time consume doing the Sankey Diagram per year:"
   ]
  },
  {
   "cell_type": "code",
   "execution_count": null,
   "id": "8086ca65",
   "metadata": {},
   "outputs": [],
   "source": [
    "end.time - start.time"
   ]
  },
  {
   "cell_type": "markdown",
   "id": "8caae2ff",
   "metadata": {},
   "source": [
    "## Aripiprazole and Risperidone per month - approach \n",
    "\n",
    "In order to observe how much a patient can change after receiving for the first time the only two medication approved by the FDA, we are going to follow up patients that had a prescription month by month and see if they change or stayed with the same medication. To do this, we selected the year with the highest count of claims and patients, which is 2019. "
   ]
  },
  {
   "cell_type": "code",
   "execution_count": null,
   "id": "e986364d",
   "metadata": {},
   "outputs": [],
   "source": [
    "year_select <- 2019\n",
    "# year_select <- 2020\n",
    "# year_select <- 2021\n",
    "# year_select <- 2019:2021\n",
    "\n",
    "claims_dataset <- claims_ASD_wNDC_csv_onlyPrescripClass_RL %>% \n",
    "   filter(.$year == year_select) #If is just one year\n",
    "  #filter(.$year %in% year_select) #If is several years at once \n"
   ]
  },
  {
   "cell_type": "markdown",
   "id": "c3990a01",
   "metadata": {},
   "source": [
    "Here, we create the dummy links with the same functions described before. "
   ]
  },
  {
   "cell_type": "code",
   "execution_count": null,
   "id": "b2ad3abf",
   "metadata": {},
   "outputs": [],
   "source": [
    "months <- 201901:201912\n",
    "# months <- 202001:202012\n",
    "# months <- 202101:202112\n",
    "\n",
    "# months_1 <- 201901:201912\n",
    "# months_2 <- 202001:202012\n",
    "# months_3 <- 202101:202112\n",
    "\n",
    "# months <- c(months_1,months_2,months_3)\n",
    "\n",
    "#All years \n",
    "dummy_links_month_RL<-lapply(months, \n",
    "                             dummy_connections, \n",
    "                             claims_dataset = claims_dataset, \n",
    "                             DrugClass = unlist(unique(drug_classes$Drug_class)),\n",
    "                             maxmonth_source = max(months))\n",
    "dummy_links_month_RL<-bind_rows(dummy_links_month_RL)\n",
    "head(dummy_links_month_RL,5)"
   ]
  },
  {
   "cell_type": "markdown",
   "id": "12affcd0",
   "metadata": {},
   "source": [
    "For the sankey diagram formatting, we used similar methodology, but just including patients with a aripiprazole or risperidone prescription. Please, have in mind that a patient that started with a prescription of Aripiprazole on, for example, February, can be included or not in the next months if he/she accomplish the inclusion criteria."
   ]
  },
  {
   "cell_type": "code",
   "execution_count": null,
   "id": "a3dc90d3",
   "metadata": {},
   "outputs": [],
   "source": [
    "#Run this line if you want to reset the patients ID list \n",
    "patients_id_allMonths<-c()"
   ]
  },
  {
   "cell_type": "markdown",
   "id": "64137fd8",
   "metadata": {},
   "source": [
    "If you do this for all the final three years, you have to run the line starting from 533. If you are running this code with just one year, you have to run the lines starting to 572  to create the dataframe of the patterns. "
   ]
  },
  {
   "cell_type": "code",
   "execution_count": null,
   "id": "a68b6242",
   "metadata": {},
   "outputs": [],
   "source": [
    "start.time <- Sys.time()\n",
    "\n",
    "# months_1 <- 201901:201912\n",
    "# months_2 <- 202001:202012\n",
    "# months_3 <- 202101:202112\n",
    "\n",
    "# months <- c(months_1,months_2,months_3)\n",
    "\n",
    "patients_source<- c()\n",
    "df_monthly <- list()\n",
    "cont <- 1\n",
    "\n",
    "for(j in 1:length(months)){\n",
    "  #Declare initial vectors\n",
    "  if(months[j] < max(months)){\n",
    "   \n",
    "    medication_source_c<- c()\n",
    "    medication_target_c<-c()\n",
    "    \n",
    "    #Extract only the patients that appears with a claim in the source\n",
    "    #To reduce time consumption\n",
    "      patients_id <- claims_dataset %>% \n",
    "        filter(.$month_id == months[j]) %>% \n",
    "        select(pat_id, medication) %>% \n",
    "        unique %>% \n",
    "        filter(.$medication == \"ARIPIPRAZOLE\" | .$medication == \"RISPERIDONE\") %>% \n",
    "        group_by(pat_id) %>% \n",
    "        count %>% \n",
    "        ungroup() %>% \n",
    "        filter(.$n == 1) %>% \n",
    "        select(pat_id) %>% \n",
    "        unlist\n",
    "   \n",
    "    patients_id_allMonths <- unique(c(patients_id_allMonths,patients_id))\n",
    "    \n",
    "    \n",
    "      for(i in patients_id_allMonths){\n",
    "        #Go to each patient and see what of those only have one prescription \n",
    "        #or multiple prescription for the same drug medication \n",
    "        \n",
    "        #In the source\n",
    "        medication_source <- claims_dataset %>% \n",
    "          filter(.$month_id == months[j] & \n",
    "                   .$pat_id == i) %>% \n",
    "          select(medication) %>% unique\n",
    "        \n",
    "        \n",
    "        #And in the target \n",
    "        medication_target <- claims_dataset %>% \n",
    "          filter(.$month_id == months[j+1] &  \n",
    "                   .$pat_id == i) %>% \n",
    "          select(medication) %>% unique\n",
    "        \n",
    "        \n",
    "        #Verifiy that the prescriptions only are from the same medication\n",
    "        #And extract the medication\n",
    "        if(nrow(medication_source) == 1 & nrow(medication_target) == 1){\n",
    "          patients_source<-c(patients_source,i)\n",
    "          medication_source_c <-c(medication_source_c,medication_source)\n",
    "          medication_target_c <-c(medication_target_c,medication_target)\n",
    "        \n",
    "        }\n",
    "      }\n",
    "      \n",
    "    \n",
    "    # and count it \n",
    "    drugs_patterns <- data.frame(drugSource = unlist(medication_source_c),\n",
    "                                 drugTarget = unlist(medication_target_c)) %>%\n",
    "      mutate(drugTarget = paste(drugTarget,months[j+1],sep=\"_\")) %>%\n",
    "      mutate(drugSource = paste(drugSource,months[j], sep=\"_\")) %>%\n",
    "      group_by(drugSource, drugTarget) %>%\n",
    "      count %>% \n",
    "      mutate(medication = substr(drugSource, 1, nchar(drugSource)-7))\n",
    "  \n",
    "    \n",
    "    assign(paste0(\"df_drugsYear\",cont),drugs_patterns)\n",
    "    cont = cont + 1\n",
    "     \n",
    "  }\n",
    " \n",
    "}\n",
    "\n",
    "#For all the months at once \n",
    "# all_patterns_monthly_rispAndArip_df <- rbind(df_drugsYear1,\n",
    "# df_drugsYear2,\n",
    "# df_drugsYear3,\n",
    "# df_drugsYear4,\n",
    "# df_drugsYear5,\n",
    "# df_drugsYear6,\n",
    "# df_drugsYear7,\n",
    "# df_drugsYear8,\n",
    "# df_drugsYear9,\n",
    "# df_drugsYear10,\n",
    "# df_drugsYear11,\n",
    "# df_drugsYear12,\n",
    "# df_drugsYear13,\n",
    "# df_drugsYear14,\n",
    "# df_drugsYear15,\n",
    "# df_drugsYear16,\n",
    "# df_drugsYear17,\n",
    "# df_drugsYear18,\n",
    "# df_drugsYear19,\n",
    "# df_drugsYear20,\n",
    "# df_drugsYear21,\n",
    "# df_drugsYear22,\n",
    "# df_drugsYear23,\n",
    "# df_drugsYear24,\n",
    "# df_drugsYear25,\n",
    "# df_drugsYear26,\n",
    "# df_drugsYear27,\n",
    "# df_drugsYear28,\n",
    "# df_drugsYear29,\n",
    "# df_drugsYear30,\n",
    "# df_drugsYear31,\n",
    "# df_drugsYear32,\n",
    "# df_drugsYear33,\n",
    "# df_drugsYear34,\n",
    "# df_drugsYear35\n",
    "# )\n",
    "\n",
    "#For just one year \n",
    "all_patterns_monthly_rispAndArip_df <- rbind(df_drugsYear1,\n",
    "                                             df_drugsYear2,\n",
    "                                             df_drugsYear3,\n",
    "                                             df_drugsYear4,\n",
    "                                             df_drugsYear5,\n",
    "                                             df_drugsYear6,\n",
    "                                             df_drugsYear7,\n",
    "                                             df_drugsYear8,\n",
    "                                             df_drugsYear9,\n",
    "                                             df_drugsYear10,\n",
    "                                             df_drugsYear11\n",
    "                                             )\n",
    "end.time <- Sys.time()"
   ]
  },
  {
   "cell_type": "markdown",
   "id": "19db2651",
   "metadata": {},
   "source": [
    "Print the time taken to create the sankey diagram table. "
   ]
  },
  {
   "cell_type": "code",
   "execution_count": null,
   "id": "e9c40c21",
   "metadata": {},
   "outputs": [],
   "source": [
    "end.time - start.time "
   ]
  },
  {
   "cell_type": "markdown",
   "id": "2f2fed6c",
   "metadata": {},
   "source": [
    "Create the dummy links. "
   ]
  },
  {
   "cell_type": "code",
   "execution_count": null,
   "id": "14dd395b",
   "metadata": {},
   "outputs": [],
   "source": [
    "all_patterns_monthly_rispAndArip_df<-full_join(all_patterns_monthly_rispAndArip_df,\n",
    "                             select(dummy_links_month_RL, drugSource,drugTarget),\n",
    "                             by = c(\"drugSource\",\"drugTarget\"))\n",
    "\n",
    "all_patterns_monthly_rispAndArip_df$n<-replace(all_patterns_monthly_rispAndArip_df$n,is.na(all_patterns_monthly_rispAndArip_df$n),1e-6)"
   ]
  },
  {
   "cell_type": "markdown",
   "id": "ccb7b219",
   "metadata": {},
   "source": [
    "And finally, format the table to create nodes and links, and coloring. "
   ]
  },
  {
   "cell_type": "code",
   "execution_count": null,
   "id": "e234fe3d",
   "metadata": {},
   "outputs": [],
   "source": [
    "nodes_colors <- data.frame(Drug_class = sort(c(\"Selective serotonin reuptake inhibitors\",\"Antiadrenergic agents centrally acting\",\"Atypical antipsychotics\")))\n",
    "\n",
    "color_nodes <- c(\"#489b7b\",\"#cb6527\", \"#DDAB3B\")\n",
    "\n",
    "#The next functions is to add transparency (opacity) to the colors \n",
    "add.alpha <- function(col, alpha = 1){\n",
    "  if(missing(col)){\n",
    "    stop(\"Provide a vector of colours.\")\n",
    "  }else{\n",
    "    apply(sapply(col, col2rgb)/255, 2,\n",
    "          function(x)\n",
    "            rgb(x[1], x[2], x[3], alpha = alpha))\n",
    "  }\n",
    "}\n",
    "\n",
    "color_nodes_alpha <- add.alpha(color_nodes, alpha = 0.4)\n",
    "nodes_colors <- cbind(nodes_colors, color = color_nodes, color_link = color_nodes_alpha)\n",
    "  \n",
    "\n",
    "#colnames(drug_classes)[2] = \"medication\"\n",
    "\n",
    "  #Create the nodes\n",
    "  nodes <- all_patterns_monthly_rispAndArip_df %>%\n",
    "    pivot_longer(1:2, values_to = \"name_node\") %>%\n",
    "    distinct(name_node) %>% arrange(name_node) %>% \n",
    "    mutate(month = as.numeric(sub(\".*_(\\\\d+)$\", \"\\\\1\", name_node))) %>% arrange(month) %>%\n",
    "    mutate(name_node2 = substr(name_node, 1, nchar(name_node)-7)) %>% \n",
    "    mutate(medication = name_node2) %>% \n",
    "    mutate(name_node2 = gsub(\"(?<=\\\\b)([a-z])\", \"\\\\U\\\\1\", tolower(name_node2), perl = TRUE)) %>% \n",
    "    left_join(.,drug_classes, by = \"medication\") %>% \n",
    "    arrange(month, Drug_class) %>% \n",
    "    mutate(idx = (1:n()) - 1)\n",
    "\n",
    "  nodes <- left_join(nodes,nodes_colors, by = \"Drug_class\")\n",
    "  \n",
    "\n",
    "\n",
    "  #Select only the color for the source \n",
    "  source_colors <- nodes %>% \n",
    "    select(idx, color_link) %>% \n",
    "    mutate(source = idx) %>% \n",
    "    select(-idx)\n",
    "  \n",
    "  \n",
    "  links<- bind_rows(\n",
    "    all_patterns_monthly_rispAndArip_df %>% select(source = drugSource, target = drugTarget, value = n)) %>%\n",
    "    mutate(month = as.numeric(sub(\".*_(\\\\d+)$\", \"\\\\1\", source))) %>% \n",
    "    arrange(month) %>% \n",
    "    dplyr::group_by(source, target) %>%\n",
    "    mutate(source = nodes$idx[match(source, nodes$name_node)]) %>%\n",
    "    mutate(target = nodes$idx[match(target, nodes$name_node)]) %>% \n",
    "    left_join(., source_colors, by = \"source\") %>% \n",
    "    mutate(color = ifelse(value == 1e-6,\"#00000000\",color_link)) %>% \n",
    "    ungroup()\n",
    "\n",
    "  nodes_smallCount_source <- links %>% \n",
    "    group_by(source) %>% \n",
    "    summarise(total = sum(value)) %>% \n",
    "    filter(.$total < 1) %>%\n",
    "    ungroup() %>% \n",
    "    select(source) %>% \n",
    "    unique\n",
    "  \n",
    "    nodes_smallCount_target <- links %>% \n",
    "    group_by(target) %>% \n",
    "    summarise(total = sum(value)) %>% \n",
    "    filter(.$total < 1) %>%\n",
    "    ungroup() %>%\n",
    "    select(target) %>% \n",
    "    unique\n",
    "    \n",
    "    nodes_smallCount <- nodes_smallCount_source %>% \n",
    "      filter(.$source %in% nodes_smallCount_target$target | \n",
    "               .$source %in% c(0,1,3,4,5,6,8,9,10,11,12,13,14))\n",
    "  \n",
    "  nodeColors <- unlist(nodes_colors$color)\n",
    "\n",
    "  nodes <- nodes %>%\n",
    "  mutate(color = ifelse(idx %in% \n",
    "                          nodes_smallCount$source, \n",
    "                        \"#00000000\", color)) %>%\n",
    "  mutate(Drug_class = ifelse(color == \"#00000000\", paste0(Drug_class,\"_D\"), Drug_class), \n",
    "         name_node2 = ifelse(color == \"#00000000\", '', name_node2))\n",
    "  \n",
    "  #Put transparent the names, and leave just the final ones \n",
    "  nodes <- nodes %>% \n",
    "    mutate(name_node_final = ifelse(month < max(months) , '', name_node2))\n",
    "\n",
    "  \n",
    "  drug_class <- nodes_colors$Drug_class\n",
    "  # linkColors <- sort(unique(links$color))\n",
    "  \n",
    "  nodes_drugClasses <- nodes %>% \n",
    "    select(idx, Drug_class) %>% \n",
    "    unique \n",
    "  \n",
    "  \n",
    "  colnames(nodes_drugClasses)[1] = \"source\"\n",
    "  \n",
    "  links <- left_join(links, nodes_drugClasses, by = \"source\") %>% \n",
    "    arrange(month, Drug_class) %>% \n",
    "    mutate(Drug_class = ifelse(value == 1e-6 & \n",
    "                                 substr(Drug_class, nchar(Drug_class)-1, nchar(Drug_class)) != \"_D\", paste0(Drug_class,\"_D\"), Drug_class))\n",
    "  \n",
    "  colnames(links)[7] <- \"Drug_class\"\n",
    "\n",
    "  my_color <- paste(\"d3.scaleOrdinal().domain([\",\n",
    "                  paste0(\"'\",paste(drug_class, \n",
    "                                   collapse = \"','\"),\"'\"),\",\",paste0(\"'\",paste(paste0(drug_class,\"_D\"), \n",
    "                                                                               collapse = \"','\"),\"'\"),\n",
    "                  \"]).range([\",\n",
    "                  paste0(\"'\",paste(nodeColors,collapse=\"','\"),\"'\"),\",'#00000000', '#00000000', '#00000000'])\")\n",
    "\n",
    "  \n",
    "  fig_overtime_drugClasses_month <- sankeyNetwork(Links=links, Nodes=nodes, Source='source',\n",
    "                                            Target='target', \n",
    "                                            Value = 'value', \n",
    "                                            NodeID ='name_node_final',\n",
    "                                            colourScale=my_color,\n",
    "                                            fontSize= 35, nodeWidth = 20,\n",
    "                                            nodePadding = 15,\n",
    "                                            sinksRight = FALSE,\n",
    "                                            LinkGroup =  \"Drug_class\",\n",
    "                                            NodeGroup = \"Drug_class\", \n",
    "                                            iterations = 0, width = 2000, height = 900)\n",
    "\n",
    "  fig_overtime_drugClasses_month\n",
    "  \n",
    "  \n",
    "htmlwidgets::saveWidget(fig_overtime_drugClasses_month,\"S:/Paula/Figures/ResearchLetter/NewFilters/HTML_SD/Final_SD/FinalRL_April_NoNames/SD_NoName_2019_ourMethod_drugclasses_2to26_12moEnroll.html\")  \n",
    "  "
   ]
  },
  {
   "cell_type": "markdown",
   "id": "b6f1bf71",
   "metadata": {},
   "source": [
    "## Calculate proportion of patients per drug class \n",
    "### Yearly - per drug class \n",
    "\n"
   ]
  },
  {
   "cell_type": "code",
   "execution_count": null,
   "id": "19f2d68c",
   "metadata": {},
   "outputs": [],
   "source": [
    "Prop_allPatterns_yearly <- all_patterns_df %>% \n",
    "  ungroup() %>% \n",
    "  filter(.$n >= 1) %>%\n",
    "  mutate(year_source = substr(.$drugSource, \n",
    "                        nchar(.$drugSource)-3,\n",
    "                        nchar(.$drugSource)), \n",
    "         year_target = substr(.$drugTarget, \n",
    "                               nchar(.$drugTarget)-3,\n",
    "                               nchar(.$drugTarget)),\n",
    "         drugSource = substr(.$drugSource, \n",
    "                             1,\n",
    "                             nchar(.$drugSource)-5),\n",
    "         drugTarget = substr(.$drugTarget, \n",
    "                             1,\n",
    "                             nchar(.$drugTarget)-5)) \n",
    "\n",
    "#Count how many patients are in each month \n",
    "TotalYearly <- Prop_allPatterns_yearly %>% \n",
    "group_by(year_source) %>%\n",
    "summarise(total = sum(n))\n",
    "\n",
    "PropMonthByYearh <- function(year_select,patterns_df, total_year){\n",
    "  #For each year divide the number of patients for each of the links by the total of patients in that year\n",
    "  YearByYear_prop <- patterns_df %>% \n",
    "    filter(.$year_source == year_select) %>% \n",
    "    mutate(prop_year = (n/unlist(total_year[total_year$year_source == year_select,'total']))*100) %>% \n",
    "    mutate(prop_year = as.numeric(format(prop_year, scientific = F)))\n",
    "  \n",
    "  return(YearByYear_prop)\n",
    "}\n",
    "\n",
    "\n",
    "PropAllYears <- bind_rows(lapply(years,PropMonthByYearh, patterns_df = Prop_allPatterns_yearly, total_year = TotalYearly))"
   ]
  },
  {
   "cell_type": "code",
   "execution_count": null,
   "id": "47c2bfa1",
   "metadata": {
    "lines_to_next_cell": 2
   },
   "outputs": [],
   "source": [
    "\n",
    "#To have into account 2021, we count the number of patients that were prescribed the medications the next year. For 2012 and 2013, we have to do it counting with the source year (because 2012 is source only)\n",
    "\n",
    " SumAllMeds_part1<- PropAllYears %>% \n",
    "  filter(.$year_target > 2013) %>% \n",
    "  select(-prop_year) %>% \n",
    "  mutate(medication = drugTarget, \n",
    "         year = year_target) %>% \n",
    "  left_join(., drug_classes, by = \"medication\") %>% \n",
    "  group_by(Drug_class, year) %>%\n",
    "  summarise(total_cases = sum(n)) %>%\n",
    "  ungroup() \n",
    " \n",
    " SumAllMeds_part2<- PropAllYears %>% \n",
    "  filter(.$year_source <= 2013) %>% \n",
    "  select(-prop_year) %>% \n",
    "  mutate(medication = drugSource, \n",
    "         year = year_source) %>% \n",
    "  left_join(., drug_classes, by = \"medication\") %>% \n",
    "  group_by(Drug_class, year) %>%\n",
    "  summarise(total_cases = sum(n)) %>%\n",
    "  ungroup()\n",
    "\n",
    " TotalYearly_1 <- Prop_allPatterns_yearly %>% \n",
    "  filter(.$year_target > 2013) %>%\n",
    "  group_by(year_target) %>%\n",
    "  summarise(total = sum(n)) %>% \n",
    "  ungroup()\n",
    " \n",
    " \n",
    " TotalYearly_2 <- Prop_allPatterns_yearly %>% \n",
    "  filter(.$year_source <= 2013) %>%\n",
    "  group_by(year_source) %>%\n",
    "  summarise(total = sum(n)) %>% \n",
    "  ungroup()\n",
    " \n",
    " colnames(TotalYearly_1)[1] = \"year\"\n",
    " colnames(TotalYearly_2)[1] = \"year\"\n",
    "   \n",
    " TotalYearly_all <- rbind(TotalYearly_1,TotalYearly_2) %>% \n",
    "   arrange(year)\n",
    "   \n",
    "   \n",
    "  SumAllMeds_all <- rbind(SumAllMeds_part1,SumAllMeds_part2) %>% \n",
    "    arrange(Drug_class, year) %>% \n",
    "    left_join(., TotalYearly_all, by = \"year\") \n",
    "\n"
   ]
  },
  {
   "cell_type": "markdown",
   "id": "e19e4cd4",
   "metadata": {},
   "source": [
    "Proportions of medications (all): "
   ]
  },
  {
   "cell_type": "code",
   "execution_count": null,
   "id": "f36868ee",
   "metadata": {},
   "outputs": [],
   "source": [
    "\n",
    "print(\"SSRIs: \")\n",
    "SumAllMeds_all %>% filter(.$Drug_class == \"Selective serotonin reuptake inhibitors\") %>% mutate(total_year = sum(total), total_ssris = sum(total_cases)) %>% select(total_ssris, total_year) %>% unique %>% mutate(average_ssris = total_ssris/total_year) \n",
    "  \n",
    "\n",
    "print(\"Alpha agonists: \")\n",
    "SumAllMeds_all %>% filter(.$Drug_class == \"Antiadrenergic agents centrally acting\") %>% mutate(total_year = sum(total), total_ssris = sum(total_cases)) %>% select(total_ssris, total_year) %>% unique %>% mutate(average_ssris = total_ssris/total_year)\n",
    "\n",
    "print(\"Atypical antipsychotics: \")\n",
    "SumAllMeds_all %>% filter(.$Drug_class == \"Atypical antipsychotics\") %>% mutate(total_year = sum(total), total_ssris = sum(total_cases)) %>% select(total_ssris, total_year) %>% unique %>% mutate(average_ssris = total_ssris/total_year)\n"
   ]
  },
  {
   "cell_type": "markdown",
   "id": "1c31f3ec",
   "metadata": {},
   "source": [
    "### Monthly  - aripiprazole and risperidone in 2019"
   ]
  },
  {
   "cell_type": "code",
   "execution_count": null,
   "id": "77ad8350",
   "metadata": {},
   "outputs": [],
   "source": [
    "Prop_allPatterns <- all_patterns_monthly_rispAndArip_df %>% \n",
    "  ungroup() %>% \n",
    "  filter(.$n >= 1) %>%\n",
    "  mutate(month_source = substr(.$drugSource, \n",
    "                        nchar(.$drugSource)-5,\n",
    "                        nchar(.$drugSource)), \n",
    "         month_target = substr(.$drugTarget, \n",
    "                               nchar(.$drugTarget)-5,\n",
    "                               nchar(.$drugTarget)),\n",
    "         drugSource = substr(.$drugSource, \n",
    "                             1,\n",
    "                             nchar(.$drugSource)-7),\n",
    "         drugTarget = substr(.$drugTarget, \n",
    "                             1,\n",
    "                             nchar(.$drugTarget)-7)) \n",
    "\n",
    "#Count how many patients are in each month \n",
    "TotalMonth <- Prop_allPatterns %>% \n",
    "group_by(month_source) %>%\n",
    "summarise(total = sum(n))\n",
    "\n",
    "PropMonthByMonth <- function(month,patterns_df, total_month){\n",
    "  #For each month, divide the number of patients for each of the links by the total of patients in that month \n",
    "  MonthByMonth_prop <- patterns_df %>% \n",
    "    filter(.$month_source == month) %>% \n",
    "    mutate(prop_month = (n/unlist(total_month[total_month$month_source == month,'total']))*100) %>% \n",
    "    mutate(prop_month = as.numeric(format(prop_month, scientific = F)))\n",
    "  \n",
    "  return(MonthByMonth_prop)\n",
    "}\n",
    "\n",
    "PropAllMonths <- bind_rows(lapply(months[1:length(months)-1],PropMonthByMonth, patterns_df = Prop_allPatterns, total_month = TotalMonth))\n",
    "\n",
    "PropAllMonths <- PropAllMonths %>% \n",
    "  arrange(month_source, prop_month)\n",
    "\n"
   ]
  },
  {
   "cell_type": "markdown",
   "id": "63afea77",
   "metadata": {},
   "source": [
    "Show the proportion of individuals that started with aripiprazole and continue with it per year. "
   ]
  },
  {
   "cell_type": "code",
   "execution_count": null,
   "id": "21612dc9",
   "metadata": {
    "lines_to_next_cell": 0
   },
   "outputs": [],
   "source": [
    "print(PropAllMonths %>% \n",
    "        filter(.$drugSource == .$drugTarget \n",
    "               & .$drugSource == \"ARIPIPRAZOLE\"))"
   ]
  },
  {
   "cell_type": "markdown",
   "id": "88021363",
   "metadata": {},
   "source": [
    "And, risperidone. "
   ]
  },
  {
   "cell_type": "code",
   "execution_count": null,
   "id": "b3a3bac8",
   "metadata": {},
   "outputs": [],
   "source": [
    "print(PropAllMonths %>% \n",
    "        filter(.$drugSource == .$drugTarget \n",
    "               & .$drugSource == \"RISPERIDONE\"))"
   ]
  },
  {
   "cell_type": "markdown",
   "id": "d7fe1a15",
   "metadata": {},
   "source": [
    "#### To observe how much certain medication prescription changed "
   ]
  },
  {
   "cell_type": "code",
   "execution_count": null,
   "id": "1c08aa3d",
   "metadata": {
    "lines_to_next_cell": 0
   },
   "outputs": [],
   "source": [
    "print(\"Initial count of prescription for aripiprazole \")\n",
    "intial_count_arip <- (all_patterns_df %>% \n",
    "  ungroup() %>% \n",
    "  mutate(drugSource_2 = substr(drugSource, 1,nchar(drugSource)-5), \n",
    "         year = substr(drugSource, nchar(drugSource)-3,\n",
    "                       nchar(drugSource))) %>% \n",
    "  filter(.$year == 2012 & \n",
    "           .$drugSource_2 == \"ARIPIPRAZOLE\") %>%\n",
    "  select(n) %>% \n",
    "  unlist %>% \n",
    "  sum)\n",
    "print(intial_count_arip)"
   ]
  },
  {
   "cell_type": "code",
   "execution_count": null,
   "id": "7c27eacd",
   "metadata": {},
   "outputs": [],
   "source": [
    "print(\"Final count of prescription for ARIPIPRAZOLE \")\n",
    "final_count_arip <- (all_patterns_df %>% \n",
    "  ungroup() %>%\n",
    "  mutate(drugTarget_2 = substr(drugTarget, 1,nchar(drugTarget)-5), \n",
    "         year = substr(drugTarget, nchar(drugTarget)-3, \n",
    "                       nchar(drugTarget))) %>% \n",
    "  filter(.$year == 2021 & \n",
    "           .$drugTarget_2 == \"ARIPIPRAZOLE\") %>%\n",
    "  select(n) %>% \n",
    "  unlist %>% \n",
    "  sum)\n",
    "\n",
    "print(final_count_arip)"
   ]
  },
  {
   "cell_type": "markdown",
   "id": "3d4cbb26",
   "metadata": {},
   "source": [
    "Change between the initial amount of patients receiving a prescription of aripiprazole vs the final"
   ]
  },
  {
   "cell_type": "code",
   "execution_count": null,
   "id": "bd461b39",
   "metadata": {
    "lines_to_next_cell": 0
   },
   "outputs": [],
   "source": [
    "(final_count_arip - intial_count_arip)/final_count_arip * 100"
   ]
  },
  {
   "cell_type": "markdown",
   "id": "5b41f9b0",
   "metadata": {},
   "source": [
    "And risperidone. "
   ]
  },
  {
   "cell_type": "code",
   "execution_count": null,
   "id": "4c6e012d",
   "metadata": {},
   "outputs": [],
   "source": [
    "print(\"Initial count of prescription for RISPERIDONE \")\n",
    "intial_count_risp <- (all_patterns_df %>% \n",
    "  ungroup() %>% \n",
    "  mutate(drugSource_2 = substr(drugSource, 1,nchar(drugSource)-5), \n",
    "         year = substr(drugSource, nchar(drugSource)-3,\n",
    "                       nchar(drugSource))) %>% \n",
    "  filter(.$year == 2012 & \n",
    "           .$drugSource_2 == \"RISPERIDONE\") %>%\n",
    "  select(n) %>% \n",
    "  unlist %>% \n",
    "  sum)\n",
    "print(intial_count_risp)"
   ]
  },
  {
   "cell_type": "code",
   "execution_count": null,
   "id": "a0f51d6d",
   "metadata": {
    "lines_to_next_cell": 0
   },
   "outputs": [],
   "source": [
    "print(\"Final count of prescription for RISPERIDONE \")\n",
    "final_count_risp <- (all_patterns_df %>% \n",
    "  ungroup() %>%\n",
    "  mutate(drugTarget_2 = substr(drugTarget, 1,nchar(drugTarget)-5), \n",
    "         year = substr(drugTarget, nchar(drugTarget)-3, \n",
    "                       nchar(drugTarget))) %>% \n",
    "  filter(.$year == 2021 & \n",
    "           .$drugTarget_2 == \"RISPERIDONE\") %>%\n",
    "  select(n) %>% \n",
    "  unlist %>% \n",
    "  sum)\n",
    "\n",
    "print(final_count_risp)"
   ]
  },
  {
   "cell_type": "markdown",
   "id": "292abb93",
   "metadata": {},
   "source": [
    "And finally, the change rate of Risperidone. "
   ]
  },
  {
   "cell_type": "code",
   "execution_count": null,
   "id": "10313d09",
   "metadata": {
    "lines_to_next_cell": 0
   },
   "outputs": [],
   "source": [
    "(final_count_risp - intial_count_risp)/final_count_risp * 100"
   ]
  },
  {
   "cell_type": "markdown",
   "id": "460b89b3",
   "metadata": {},
   "source": [
    "And the same, but monthly. "
   ]
  },
  {
   "cell_type": "code",
   "execution_count": null,
   "id": "1d1c90ab",
   "metadata": {},
   "outputs": [],
   "source": [
    "total_number_drugSource <- all_patterns_monthly_rispAndArip_df %>%\n",
    "  ungroup() %>%\n",
    "  filter(.$n >= 1) %>%\n",
    "  group_by(drugSource) %>% \n",
    "  summarize(total_drugSource_count = sum(n)) %>%\n",
    "  ungroup() %>% \n",
    "  mutate(month_source = substr(.$drugSource, \n",
    "                      nchar(.$drugSource)-5,\n",
    "                      nchar(.$drugSource)), \n",
    "       drugSource = substr(.$drugSource, \n",
    "                           1,\n",
    "                           nchar(.$drugSource)-7))"
   ]
  },
  {
   "cell_type": "markdown",
   "id": "cfbf0747",
   "metadata": {},
   "source": [
    "How aripiprazole changed overtime. "
   ]
  },
  {
   "cell_type": "code",
   "execution_count": null,
   "id": "c98e0194",
   "metadata": {
    "lines_to_next_cell": 0
   },
   "outputs": [],
   "source": [
    "initial_value_arip_monthly <- total_number_drugSource %>% \n",
    "  filter(.$drugSource == \"ARIPIPRAZOLE\" & \n",
    "           .$month_source == 201901) %>% \n",
    "  select(total_drugSource_count) %>% \n",
    "  unlist \n",
    "\n",
    "final_value_arip_monthly <- total_number_drugSource %>% \n",
    "  filter(.$drugSource == \"ARIPIPRAZOLE\" & \n",
    "           .$month_source == 201911) %>% \n",
    "  select(total_drugSource_count) %>% \n",
    "  unlist \n",
    "\n",
    "(final_value_arip_monthly - initial_value_arip_monthly)/final_value_arip_monthly * 100\n"
   ]
  },
  {
   "cell_type": "markdown",
   "id": "7f98fa93",
   "metadata": {},
   "source": [
    "And with risperidone. "
   ]
  },
  {
   "cell_type": "code",
   "execution_count": null,
   "id": "2c726107",
   "metadata": {
    "lines_to_next_cell": 0
   },
   "outputs": [],
   "source": [
    "initial_value_risp_monthly <- total_number_drugSource %>% \n",
    "  filter(.$drugSource == \"RISPERIDONE\" & \n",
    "           .$month_source == 201901) %>% \n",
    "  select(total_drugSource_count) %>% \n",
    "  unlist \n",
    "\n",
    "final_value_risp_monthly <- total_number_drugSource %>% \n",
    "  filter(.$drugSource == \"RISPERIDONE\" & \n",
    "           .$month_source == 201911) %>% \n",
    "  select(total_drugSource_count) %>% \n",
    "  unlist \n",
    "\n",
    "(final_value_risp_monthly - initial_value_risp_monthly)/final_value_risp_monthly * 100"
   ]
  },
  {
   "cell_type": "markdown",
   "id": "a80566eb",
   "metadata": {},
   "source": []
  }
 ],
 "metadata": {
  "jupytext": {
   "cell_metadata_filter": "-all",
   "main_language": "R",
   "notebook_metadata_filter": "-all"
  }
 },
 "nbformat": 4,
 "nbformat_minor": 5
}
